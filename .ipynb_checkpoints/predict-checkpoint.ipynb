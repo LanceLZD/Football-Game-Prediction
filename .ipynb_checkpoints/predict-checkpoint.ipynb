{
 "cells": [
  {
   "cell_type": "code",
   "execution_count": 61,
   "metadata": {
    "collapsed": true
   },
   "outputs": [],
   "source": [
    "## Importing required libraries\n",
    "import sqlite3\n",
    "import csv\n",
    "import pandas as pd\n",
    "import numpy as np\n",
    "import seaborn as sns\n",
    "import itertools\n",
    "import matplotlib.pyplot as plt\n",
    "from sklearn.ensemble import GradientBoostingClassifier\n",
    "from sklearn.ensemble import AdaBoostClassifier \n",
    "from sklearn.ensemble import RandomForestClassifier\n",
    "from sklearn.naive_bayes import GaussianNB\n",
    "from sklearn.neighbors import KNeighborsClassifier\n",
    "from sklearn import linear_model\n",
    "from sklearn.metrics import confusion_matrix\n",
    "from sklearn.metrics import classification_report, accuracy_score\n",
    "from sklearn.calibration import CalibratedClassifierCV\n",
    "from sklearn import model_selection\n",
    "from sklearn.model_selection import train_test_split\n",
    "from sklearn.metrics import make_scorer\n",
    "from time import time\n",
    "from sklearn.decomposition import PCA, FastICA\n",
    "from sklearn.pipeline import Pipeline\n",
    "import warnings\n",
    "import random\n",
    "import time\n",
    "import datetime\n",
    "\n",
    "warnings.simplefilter(\"ignore\")"
   ]
  },
  {
   "cell_type": "code",
   "execution_count": 74,
   "metadata": {
    "collapsed": false
   },
   "outputs": [
    {
     "name": "stdout",
     "output_type": "stream",
     "text": [
      "Reading data...\n",
      "done\n"
     ]
    }
   ],
   "source": [
    "\n",
    "###  Read from csv\n",
    "\n",
    "print (\"Reading data...\")\n",
    "\n",
    "data = []\n",
    "labels = []\n",
    "featureName = []\n",
    "#file = open(\"washed_data.csv\")\n",
    "file = open(\"alldata.csv\")\n",
    "for l in csv.reader(file):\n",
    "    data.append(l[1:])\n",
    "featureName = data[0]\n",
    "del data[0]\n",
    "\n",
    "file = open(\"alllabel.csv\")\n",
    "for l in csv.reader(file):\n",
    "    labels.append(l[1:][0])\n",
    "#del labels[0]\n",
    "\n",
    "\n",
    "print (\"done\")"
   ]
  },
  {
   "cell_type": "code",
   "execution_count": 75,
   "metadata": {
    "collapsed": false
   },
   "outputs": [
    {
     "data": {
      "text/plain": [
       "['home_team_goals_difference',\n",
       " 'away_team_goals_difference',\n",
       " 'games_won_home_team',\n",
       " 'games_won_away_team',\n",
       " 'games_against_won',\n",
       " 'games_against_lost',\n",
       " 'match_time_difference',\n",
       " 'last_matches_points_home',\n",
       " 'last_matches_points_away',\n",
       " 'League_1.0',\n",
       " 'League_1729.0',\n",
       " 'League_4769.0',\n",
       " 'League_7809.0',\n",
       " 'League_10257.0',\n",
       " 'League_13274.0',\n",
       " 'League_15722.0',\n",
       " 'League_17642.0',\n",
       " 'League_19694.0',\n",
       " 'League_21518.0',\n",
       " 'League_24558.0',\n",
       " 'home_player_1_overall_rating',\n",
       " 'home_player_2_overall_rating',\n",
       " 'home_player_3_overall_rating',\n",
       " 'home_player_4_overall_rating',\n",
       " 'home_player_5_overall_rating',\n",
       " 'home_player_6_overall_rating',\n",
       " 'home_player_7_overall_rating',\n",
       " 'home_player_8_overall_rating',\n",
       " 'home_player_9_overall_rating',\n",
       " 'home_player_10_overall_rating',\n",
       " 'home_player_11_overall_rating',\n",
       " 'away_player_1_overall_rating',\n",
       " 'away_player_2_overall_rating',\n",
       " 'away_player_3_overall_rating',\n",
       " 'away_player_4_overall_rating',\n",
       " 'away_player_5_overall_rating',\n",
       " 'away_player_6_overall_rating',\n",
       " 'away_player_7_overall_rating',\n",
       " 'away_player_8_overall_rating',\n",
       " 'away_player_9_overall_rating',\n",
       " 'away_player_10_overall_rating',\n",
       " 'away_player_11_overall_rating',\n",
       " 'home_team_api_id_buildUpPlaySpeed',\n",
       " 'home_team_api_id_buildUpPlayPassing',\n",
       " 'home_team_api_id_chanceCreationPassing',\n",
       " 'home_team_api_id_chanceCreationCrossing',\n",
       " 'home_team_api_id_chanceCreationShooting',\n",
       " 'home_team_api_id_defencePressure',\n",
       " 'home_team_api_id_defenceAggression',\n",
       " 'home_team_api_id_defenceTeamWidth',\n",
       " 'B365_Win',\n",
       " 'B365_Draw',\n",
       " 'B365_Defeat',\n",
       " 'BW_Win',\n",
       " 'BW_Draw',\n",
       " 'BW_Defeat']"
      ]
     },
     "execution_count": 75,
     "metadata": {},
     "output_type": "execute_result"
    }
   ],
   "source": [
    "featureName"
   ]
  },
  {
   "cell_type": "code",
   "execution_count": 65,
   "metadata": {
    "collapsed": false
   },
   "outputs": [],
   "source": [
    "\n",
    "### pre-process on X and y\n",
    "dataWash = []\n",
    "labelsNew = []\n",
    "for i in range(len(data)):\n",
    "    add = 1\n",
    "    if data[i][6] == '0.0' or data[i][7] == '0.0':\n",
    "        continue\n",
    "    home_team_date = time.strptime(data[i][6], \"%Y-%m-%d %H:%M:%S\")\n",
    "    away_team_date = time.strptime(data[i][7], \"%Y-%m-%d %H:%M:%S\")\n",
    "    home_team_date = datetime.datetime(* home_team_date[:6])\n",
    "    away_team_date = datetime.datetime(* away_team_date[:6])\n",
    "    date_dif = (home_team_date-away_team_date).total_seconds()/3600/24\n",
    "    del data[i][6]\n",
    "    del data[i][6]\n",
    "    #print (data[i])\n",
    "    data[i].insert(6,date_dif)\n",
    "    \n",
    "    for j in range(len(data[i])):\n",
    "        #if data[i][j]=='' or np.isnan(data[i][j]):\n",
    "        if data[i][j]=='':\n",
    "            #data[i][j]=0\n",
    "            add = 0\n",
    "            break\n",
    "        else: data[i][j] = float(data[i][j])\n",
    "    if add==1:\n",
    "        dataWash.append(data[i])\n",
    "        labelsNew.append(labels[i])\n",
    "data = dataWash\n",
    "labels = labelsNew"
   ]
  },
  {
   "cell_type": "code",
   "execution_count": 4,
   "metadata": {
    "collapsed": false
   },
   "outputs": [],
   "source": [
    "### split train, validation, test data\n",
    "trainX = []\n",
    "trainy = []\n",
    "validateX = []\n",
    "validatey = []\n",
    "testX = []\n",
    "testy = []\n",
    "for i in range (len(data)):\n",
    "    rdm = np.random.random()\n",
    "    if rdm<0.6:\n",
    "        trainX.append(data[i])\n",
    "        trainy.append(labels[i])\n",
    "    elif rdm<0.8:\n",
    "        validateX.append(data[i])\n",
    "        validatey.append(labels[i])\n",
    "    else:\n",
    "        testX.append(data[i])\n",
    "        testy.append(labels[i])"
   ]
  },
  {
   "cell_type": "code",
   "execution_count": 19,
   "metadata": {
    "collapsed": false
   },
   "outputs": [],
   "source": [
    "###  calculate accuracy\n",
    "def getAcc(predicty, testy):\n",
    "    correctCnt = 0\n",
    "    for i in range(len(testy)):\n",
    "        if predicty[i] == testy[i]:\n",
    "            correctCnt += 1\n",
    "    return correctCnt*1.0/len(testy)\n",
    "\n",
    "def getAccByLeague(predicty, testy, testX):\n",
    "    matchNumByLeague = [0]*11\n",
    "    correctByLeague = [0]*11\n",
    "    testMatchNum = len(predicty)\n",
    "    for i in range(testMatchNum):\n",
    "        label = testy[i]\n",
    "        pred = predicty[i]\n",
    "        for j in range(7,18,1):\n",
    "            if int(testX[i][j])==1:\n",
    "                matchNumByLeague[j-7]+=1\n",
    "                if label==pred:\n",
    "                    correctByLeague[j-7] += 1\n",
    "    accuracyByLeague = []\n",
    "    for i in range(11):\n",
    "        if matchNumByLeague[i]==0:\n",
    "            accuracyByLeague.append(0)\n",
    "        else:\n",
    "            accuracyByLeague.append(correctByLeague[i]*1.0/matchNumByLeague[i])\n",
    "    return accuracyByLeague\n",
    "    "
   ]
  },
  {
   "cell_type": "code",
   "execution_count": 6,
   "metadata": {
    "collapsed": false
   },
   "outputs": [
    {
     "name": "stdout",
     "output_type": "stream",
     "text": [
      "accuracy of baseline is 0.45243962543124694\n"
     ]
    }
   ],
   "source": [
    "###  baseline: predict every match as home team wins\n",
    "predicty = ['Win']*len(testy)\n",
    "acc = getAcc(predicty,testy)\n",
    "print (\"accuracy of baseline is \"+str(acc))"
   ]
  },
  {
   "cell_type": "code",
   "execution_count": 22,
   "metadata": {
    "collapsed": false
   },
   "outputs": [
    {
     "name": "stdout",
     "output_type": "stream",
     "text": [
      "accuracy of LR is 0.49531789058649583\n",
      "[0.44502617801047123, 0.52734375, 0.5035971223021583, 0.49056603773584906, 0.4078014184397163, 0.4928909952606635, 0, 0.5526315789473685, 0.4594594594594595, 0.5708812260536399, 0]\n"
     ]
    }
   ],
   "source": [
    "###   try logistic regression\n",
    "logClf = linear_model.LogisticRegression(multi_class = \"ovr\", solver = \"sag\", class_weight = 'balanced')\n",
    "logClf.fit(trainX,trainy)\n",
    "predicty = logClf.predict(testX)\n",
    "acc = getAcc(predicty,testy)\n",
    "print (\"accuracy of LR is \"+str(acc))\n",
    "\n",
    "accByLeague = getAccByLeague(predicty,testy,testX)\n",
    "print(accByLeague)"
   ]
  },
  {
   "cell_type": "code",
   "execution_count": 23,
   "metadata": {
    "collapsed": false
   },
   "outputs": [
    {
     "name": "stdout",
     "output_type": "stream",
     "text": [
      "accuracy of LR is 0.507639231148349\n",
      "[0.5026178010471204, 0.51171875, 0.4460431654676259, 0.5, 0.46099290780141844, 0.5971563981042654, 0, 0.5947368421052631, 0.4527027027027027, 0.524904214559387, 0]\n"
     ]
    }
   ],
   "source": [
    "###  only use lottery features\n",
    "trainXNew = []\n",
    "testXNew = []\n",
    "for row in trainX:\n",
    "    trainXNew.append(row[-6:])\n",
    "for row in testX:\n",
    "    testXNew.append(row[-6:])\n",
    "logClf = linear_model.LogisticRegression(multi_class = \"ovr\", solver = \"sag\", class_weight = 'balanced')\n",
    "logClf.fit(trainXNew,trainy)\n",
    "predicty = logClf.predict(testXNew)\n",
    "acc = getAcc(predicty,testy)\n",
    "print (\"accuracy of LR is \"+str(acc))\n",
    "accByLeague = getAccByLeague(predicty,testy,testX)\n",
    "print(accByLeague)"
   ]
  },
  {
   "cell_type": "code",
   "execution_count": 26,
   "metadata": {
    "collapsed": false
   },
   "outputs": [
    {
     "name": "stdout",
     "output_type": "stream",
     "text": [
      "accuracy of LR is 0.49186791522917694\n",
      "[0.450261780104712, 0.48828125, 0.48201438848920863, 0.5, 0.41843971631205673, 0.5023696682464455, 0, 0.5578947368421052, 0.46621621621621623, 0.5670498084291188, 0]\n"
     ]
    }
   ],
   "source": [
    "### get rid of team features\n",
    "trainXNew = []\n",
    "testXNew = []\n",
    "for row in trainX:\n",
    "    trainXNew.append(row[:39]+row[-6:])\n",
    "for row in testX:\n",
    "    testXNew.append(row[:39]+row[-6:])\n",
    "logClf = linear_model.LogisticRegression(multi_class = \"ovr\", solver = \"sag\", class_weight = 'balanced')\n",
    "logClf.fit(trainXNew,trainy)\n",
    "predicty = logClf.predict(testXNew)\n",
    "acc = getAcc(predicty,testy)\n",
    "print (\"accuracy of LR is \"+str(acc))\n",
    "accByLeague = getAccByLeague(predicty,testy,testX)\n",
    "print(accByLeague)"
   ]
  },
  {
   "cell_type": "code",
   "execution_count": 27,
   "metadata": {
    "collapsed": false
   },
   "outputs": [
    {
     "name": "stdout",
     "output_type": "stream",
     "text": [
      "accuracy of LR is 0.47461803844258255\n",
      "[0.4869109947643979, 0.484375, 0.4748201438848921, 0.4339622641509434, 0.4219858156028369, 0.5213270142180095, 0, 0.5263157894736842, 0.41216216216216217, 0.5057471264367817, 0]\n"
     ]
    }
   ],
   "source": [
    "### get rid of team features and player features\n",
    "trainXNew = []\n",
    "testXNew = []\n",
    "for row in trainX:\n",
    "    trainXNew.append(row[:17]+row[-6:])\n",
    "for row in testX:\n",
    "    testXNew.append(row[:17]+row[-6:])\n",
    "logClf = linear_model.LogisticRegression(multi_class = \"ovr\", solver = \"sag\", class_weight = 'balanced')\n",
    "logClf.fit(trainXNew,trainy)\n",
    "predicty = logClf.predict(testXNew)\n",
    "acc = getAcc(predicty,testy)\n",
    "print (\"accuracy of LR is \"+str(acc))\n",
    "accByLeague = getAccByLeague(predicty,testy,testX)\n",
    "print(accByLeague)"
   ]
  },
  {
   "cell_type": "code",
   "execution_count": 36,
   "metadata": {
    "collapsed": false
   },
   "outputs": [
    {
     "name": "stdout",
     "output_type": "stream",
     "text": [
      "accuracy of GNB is 0.48496796451453916\n",
      "[0.4397905759162304, 0.515625, 0.4712230215827338, 0.5, 0.45390070921985815, 0.4881516587677725, 0, 0.5157894736842106, 0.3918918918918919, 0.5517241379310345, 0]\n"
     ]
    }
   ],
   "source": [
    "###  try gaussian naive bayes\n",
    "GNBClf = GaussianNB()\n",
    "GNBClf.fit(trainX,trainy)\n",
    "predicty = GNBClf.predict(testX)\n",
    "acc = getAcc(predicty,testy)\n",
    "print (\"accuracy of GNB is \"+str(acc))\n",
    "\n",
    "accByLeague = getAccByLeague(predicty,testy,testX)\n",
    "print(accByLeague)"
   ]
  },
  {
   "cell_type": "code",
   "execution_count": 37,
   "metadata": {
    "collapsed": false
   },
   "outputs": [
    {
     "name": "stdout",
     "output_type": "stream",
     "text": [
      "accuracy of GNB is 0.5002464268112371\n",
      "[0.4973821989528796, 0.5078125, 0.44964028776978415, 0.4858490566037736, 0.4432624113475177, 0.5402843601895735, 0, 0.6, 0.4594594594594595, 0.5402298850574713, 0]\n"
     ]
    }
   ],
   "source": [
    "###  only use lottery features\n",
    "trainXNew = []\n",
    "testXNew = []\n",
    "for row in trainX:\n",
    "    trainXNew.append(row[-6:])\n",
    "for row in testX:\n",
    "    testXNew.append(row[-6:])\n",
    "GNBClf = GaussianNB()\n",
    "GNBClf.fit(trainXNew,trainy)\n",
    "predicty = GNBClf.predict(testXNew)\n",
    "acc = getAcc(predicty,testy)\n",
    "print (\"accuracy of GNB is \"+str(acc))\n",
    "\n",
    "accByLeague = getAccByLeague(predicty,testy,testX)\n",
    "print(accByLeague)"
   ]
  },
  {
   "cell_type": "code",
   "execution_count": 38,
   "metadata": {
    "collapsed": false
   },
   "outputs": [
    {
     "name": "stdout",
     "output_type": "stream",
     "text": [
      "accuracy of RF is 0.519960571710202\n",
      "[0.4973821989528796, 0.5234375, 0.5359712230215827, 0.5, 0.46808510638297873, 0.5165876777251185, 0, 0.6, 0.43243243243243246, 0.5823754789272031, 0]\n"
     ]
    }
   ],
   "source": [
    "###  try random forest\n",
    "RFClf = RandomForestClassifier(n_estimators = 200, random_state = 1, class_weight = 'balanced')\n",
    "RFClf.fit(trainX,trainy)\n",
    "predicty = RFClf.predict(testX)\n",
    "acc = getAcc(predicty,testy)\n",
    "print (\"accuracy of RF is \"+str(acc))\n",
    "\n",
    "accByLeague = getAccByLeague(predicty,testy,testX)\n",
    "print(accByLeague)"
   ]
  },
  {
   "cell_type": "code",
   "execution_count": 40,
   "metadata": {
    "collapsed": false
   },
   "outputs": [
    {
     "name": "stdout",
     "output_type": "stream",
     "text": [
      "accuracy of RF is 0.48250369640216856\n",
      "[0.47643979057591623, 0.49609375, 0.45323741007194246, 0.4669811320754717, 0.46099290780141844, 0.4786729857819905, 0, 0.5263157894736842, 0.47297297297297297, 0.5172413793103449, 0]\n"
     ]
    }
   ],
   "source": [
    "###  only use lottery features\n",
    "trainXNew = []\n",
    "testXNew = []\n",
    "for row in trainX:\n",
    "    trainXNew.append(row[-6:])\n",
    "for row in testX:\n",
    "    testXNew.append(row[-6:])\n",
    "RFClf = RandomForestClassifier(n_estimators = 200, random_state = 1, class_weight = 'balanced')\n",
    "RFClf.fit(trainXNew,trainy)\n",
    "predicty = RFClf.predict(testXNew)\n",
    "acc = getAcc(predicty,testy)\n",
    "print (\"accuracy of RF is \"+str(acc))\n",
    "\n",
    "accByLeague = getAccByLeague(predicty,testy,testX)\n",
    "print(accByLeague)"
   ]
  },
  {
   "cell_type": "code",
   "execution_count": 41,
   "metadata": {
    "collapsed": false
   },
   "outputs": [
    {
     "name": "stdout",
     "output_type": "stream",
     "text": [
      "accuracy of AB is 0.5248891079349434\n",
      "[0.5287958115183246, 0.5234375, 0.5179856115107914, 0.4811320754716981, 0.48936170212765956, 0.5497630331753555, 0, 0.5631578947368421, 0.47297297297297297, 0.5862068965517241, 0]\n"
     ]
    }
   ],
   "source": [
    "###  try adaboost\n",
    "ABClf = AdaBoostClassifier(n_estimators = 200, random_state = 2)\n",
    "ABClf.fit(trainX,trainy)\n",
    "predicty = ABClf.predict(testX)\n",
    "acc = getAcc(predicty,testy)\n",
    "print (\"accuracy of AB is \"+str(acc))\n",
    "\n",
    "accByLeague = getAccByLeague(predicty,testy,testX)\n",
    "print(accByLeague)\n"
   ]
  },
  {
   "cell_type": "code",
   "execution_count": 42,
   "metadata": {
    "collapsed": false
   },
   "outputs": [
    {
     "name": "stdout",
     "output_type": "stream",
     "text": [
      "accuracy of RF is 0.5298176441596846\n",
      "[0.5445026178010471, 0.53125, 0.5215827338129496, 0.49056603773584906, 0.5035460992907801, 0.5781990521327014, 0, 0.5789473684210527, 0.4391891891891892, 0.5632183908045977, 0]\n"
     ]
    }
   ],
   "source": [
    "###  only use lottery features\n",
    "trainXNew = []\n",
    "testXNew = []\n",
    "for row in trainX:\n",
    "    trainXNew.append(row[-6:])\n",
    "for row in testX:\n",
    "    testXNew.append(row[-6:])\n",
    "ABClf = AdaBoostClassifier(n_estimators = 200, random_state = 2)\n",
    "ABClf.fit(trainXNew,trainy)\n",
    "predicty = ABClf.predict(testXNew)\n",
    "acc = getAcc(predicty,testy)\n",
    "print (\"accuracy of RF is \"+str(acc))\n",
    "\n",
    "accByLeague = getAccByLeague(predicty,testy,testX)\n",
    "print(accByLeague)"
   ]
  },
  {
   "cell_type": "code",
   "execution_count": 43,
   "metadata": {
    "collapsed": false
   },
   "outputs": [
    {
     "name": "stdout",
     "output_type": "stream",
     "text": [
      "accuracy of KNN is 0.4307540660423854\n",
      "[0.418848167539267, 0.42578125, 0.45323741007194246, 0.3915094339622642, 0.40425531914893614, 0.41706161137440756, 0, 0.4789473684210526, 0.40540540540540543, 0.47126436781609193, 0]\n"
     ]
    }
   ],
   "source": [
    "###  try KNN\n",
    "KNNClf =  KNeighborsClassifier()\n",
    "KNNClf.fit(trainX,trainy)\n",
    "predicty = KNNClf.predict(testX)\n",
    "acc = getAcc(predicty,testy)\n",
    "print (\"accuracy of KNN is \"+str(acc))\n",
    "\n",
    "accByLeague = getAccByLeague(predicty,testy,testX)\n",
    "print(accByLeague)\n"
   ]
  },
  {
   "cell_type": "code",
   "execution_count": 44,
   "metadata": {
    "collapsed": false
   },
   "outputs": [
    {
     "name": "stdout",
     "output_type": "stream",
     "text": [
      "accuracy of RF is 0.4553967471660917\n",
      "[0.4293193717277487, 0.46484375, 0.4064748201438849, 0.4339622641509434, 0.4326241134751773, 0.47393364928909953, 0, 0.5, 0.5, 0.48659003831417624, 0]\n"
     ]
    }
   ],
   "source": [
    "###  only use lottery features\n",
    "trainXNew = []\n",
    "testXNew = []\n",
    "for row in trainX:\n",
    "    trainXNew.append(row[-6:])\n",
    "for row in testX:\n",
    "    testXNew.append(row[-6:])\n",
    "KNNClf =  KNeighborsClassifier()\n",
    "KNNClf.fit(trainXNew,trainy)\n",
    "predicty = KNNClf.predict(testXNew)\n",
    "acc = getAcc(predicty,testy)\n",
    "print (\"accuracy of RF is \"+str(acc))\n",
    "\n",
    "accByLeague = getAccByLeague(predicty,testy,testX)\n",
    "print(accByLeague)"
   ]
  },
  {
   "cell_type": "code",
   "execution_count": 62,
   "metadata": {
    "collapsed": false
   },
   "outputs": [
    {
     "name": "stdout",
     "output_type": "stream",
     "text": [
      "Reading data...\n",
      "done\n"
     ]
    }
   ],
   "source": [
    "###  try new data\n",
    "print (\"Reading data...\")\n",
    "\n",
    "dataNew = []\n",
    "labelsNew = []\n",
    "featureName = []\n",
    "#file = open(\"washed_data.csv\")\n",
    "file = open(\"dataWithoutBlank.csv.csv\")\n",
    "for l in csv.reader(file):\n",
    "    dataNew.append(l[1:-1])\n",
    "    labelsNew.append(l[-1])\n",
    "featureName = dataNew[0]\n",
    "del dataNew[0]\n",
    "\n",
    "\n",
    "\n",
    "\n",
    "print (\"done\")"
   ]
  },
  {
   "cell_type": "code",
   "execution_count": 67,
   "metadata": {
    "collapsed": false
   },
   "outputs": [
    {
     "data": {
      "text/plain": [
       "['0.4',\n",
       " '-0.7',\n",
       " '0.6',\n",
       " '0.3',\n",
       " '0.0',\n",
       " '0.0',\n",
       " '0.0',\n",
       " '1.8',\n",
       " '0.9',\n",
       " '1',\n",
       " '0',\n",
       " '0',\n",
       " '0',\n",
       " '0',\n",
       " '0',\n",
       " '0',\n",
       " '0',\n",
       " '0',\n",
       " '0',\n",
       " '0',\n",
       " '64.0',\n",
       " '65.0',\n",
       " '64.0',\n",
       " '67.0',\n",
       " '63.0',\n",
       " '65.0',\n",
       " '68.0',\n",
       " '64.0',\n",
       " '70.0',\n",
       " '65.0',\n",
       " '63.0',\n",
       " '73.0',\n",
       " '67.0',\n",
       " '64.0',\n",
       " '64.0',\n",
       " '70.0',\n",
       " '68.0',\n",
       " '65.0',\n",
       " '64.0',\n",
       " '64.0',\n",
       " '66.0',\n",
       " '65.0',\n",
       " '45.0',\n",
       " '-25.0',\n",
       " '20.0',\n",
       " '5.0',\n",
       " '5.0',\n",
       " '0.0',\n",
       " '-5.0',\n",
       " '70.0',\n",
       " '0.447368421053',\n",
       " '0.276315789474',\n",
       " '0.276315789474',\n",
       " '0.44405341062',\n",
       " '0.275851361143',\n",
       " '0.280095228237']"
      ]
     },
     "execution_count": 67,
     "metadata": {},
     "output_type": "execute_result"
    }
   ],
   "source": [
    "dataNew[0]"
   ]
  },
  {
   "cell_type": "code",
   "execution_count": 59,
   "metadata": {
    "collapsed": false
   },
   "outputs": [
    {
     "data": {
      "text/plain": [
       "0.8320032531896507"
      ]
     },
     "execution_count": 59,
     "metadata": {},
     "output_type": "execute_result"
    }
   ],
   "source": []
  },
  {
   "cell_type": "code",
   "execution_count": null,
   "metadata": {
    "collapsed": true
   },
   "outputs": [],
   "source": []
  }
 ],
 "metadata": {
  "anaconda-cloud": {
   "attach-environment": true,
   "summary": "prediction"
  },
  "kernelspec": {
   "display_name": "Python [conda root]",
   "language": "python",
   "name": "conda-root-py"
  },
  "language_info": {
   "codemirror_mode": {
    "name": "ipython",
    "version": 3
   },
   "file_extension": ".py",
   "mimetype": "text/x-python",
   "name": "python",
   "nbconvert_exporter": "python",
   "pygments_lexer": "ipython3",
   "version": "3.5.2"
  }
 },
 "nbformat": 4,
 "nbformat_minor": 1
}
