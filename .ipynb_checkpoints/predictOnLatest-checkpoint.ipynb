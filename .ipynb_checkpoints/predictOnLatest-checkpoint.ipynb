{
 "cells": [
  {
   "cell_type": "code",
   "execution_count": 2,
   "metadata": {
    "collapsed": true
   },
   "outputs": [],
   "source": [
    "## Importing required libraries\n",
    "import sqlite3\n",
    "import csv\n",
    "import pandas as pd\n",
    "import numpy as np\n",
    "import seaborn as sns\n",
    "import itertools\n",
    "import matplotlib.pyplot as plt\n",
    "from sklearn.ensemble import GradientBoostingClassifier\n",
    "from sklearn.ensemble import AdaBoostClassifier \n",
    "from sklearn.ensemble import RandomForestClassifier\n",
    "from sklearn.naive_bayes import GaussianNB\n",
    "from sklearn.neighbors import KNeighborsClassifier\n",
    "from sklearn import linear_model\n",
    "from sklearn.metrics import confusion_matrix\n",
    "from sklearn.metrics import classification_report, accuracy_score\n",
    "from sklearn.calibration import CalibratedClassifierCV\n",
    "from sklearn import model_selection\n",
    "from sklearn.model_selection import train_test_split\n",
    "from sklearn.metrics import make_scorer\n",
    "from time import time\n",
    "from sklearn.decomposition import PCA, FastICA\n",
    "from sklearn.pipeline import Pipeline\n",
    "import warnings\n",
    "import random\n",
    "import time\n",
    "import datetime\n",
    "\n",
    "warnings.simplefilter(\"ignore\")"
   ]
  },
  {
   "cell_type": "code",
   "execution_count": 3,
   "metadata": {
    "collapsed": false
   },
   "outputs": [
    {
     "name": "stdout",
     "output_type": "stream",
     "text": [
      "Reading data...\n",
      "done\n"
     ]
    }
   ],
   "source": [
    "print (\"Reading data...\")\n",
    "\n",
    "data = []\n",
    "labels = []\n",
    "featureName = []\n",
    "#file = open(\"washed_data.csv\")\n",
    "file = open(\"washed_data2.csv\")\n",
    "for l in csv.reader(file):\n",
    "    data.append(l[1:-1])\n",
    "    labels.append(l[-1])\n",
    "featureName = data[0]\n",
    "del data[0]\n",
    "del labels[0]\n",
    "\n",
    "print (\"done\")"
   ]
  },
  {
   "cell_type": "code",
   "execution_count": 4,
   "metadata": {
    "collapsed": false
   },
   "outputs": [
    {
     "data": {
      "text/plain": [
       "['home_team_goals_difference',\n",
       " 'away_team_goals_difference',\n",
       " 'games_won_home_team',\n",
       " 'games_won_away_team',\n",
       " 'games_against_won',\n",
       " 'games_against_lost',\n",
       " 'match_time_difference',\n",
       " 'last_matches_points_home',\n",
       " 'last_matches_points_away',\n",
       " 'League_1.0',\n",
       " 'League_1729.0',\n",
       " 'League_4769.0',\n",
       " 'League_7809.0',\n",
       " 'League_10257.0',\n",
       " 'League_13274.0',\n",
       " 'League_17642.0',\n",
       " 'League_19694.0',\n",
       " 'League_21518.0',\n",
       " 'home_player_1_overall_rating',\n",
       " 'home_player_2_overall_rating',\n",
       " 'home_player_3_overall_rating',\n",
       " 'home_player_4_overall_rating',\n",
       " 'home_player_5_overall_rating',\n",
       " 'home_player_6_overall_rating',\n",
       " 'home_player_7_overall_rating',\n",
       " 'home_player_8_overall_rating',\n",
       " 'home_player_9_overall_rating',\n",
       " 'home_player_10_overall_rating',\n",
       " 'home_player_11_overall_rating',\n",
       " 'away_player_1_overall_rating',\n",
       " 'away_player_2_overall_rating',\n",
       " 'away_player_3_overall_rating',\n",
       " 'away_player_4_overall_rating',\n",
       " 'away_player_5_overall_rating',\n",
       " 'away_player_6_overall_rating',\n",
       " 'away_player_7_overall_rating',\n",
       " 'away_player_8_overall_rating',\n",
       " 'away_player_9_overall_rating',\n",
       " 'away_player_10_overall_rating',\n",
       " 'away_player_11_overall_rating',\n",
       " 'home_team_api_id_buildUpPlaySpeed',\n",
       " 'home_team_api_id_buildUpPlayPassing',\n",
       " 'home_team_api_id_chanceCreationPassing',\n",
       " 'home_team_api_id_chanceCreationCrossing',\n",
       " 'home_team_api_id_chanceCreationShooting',\n",
       " 'home_team_api_id_defencePressure',\n",
       " 'home_team_api_id_defenceAggression',\n",
       " 'B365_Win',\n",
       " 'B365_Draw',\n",
       " 'B365_Defeat',\n",
       " 'BW_Win',\n",
       " 'BW_Draw',\n",
       " 'BW_Defeat']"
      ]
     },
     "execution_count": 4,
     "metadata": {},
     "output_type": "execute_result"
    }
   ],
   "source": [
    "featureName"
   ]
  },
  {
   "cell_type": "code",
   "execution_count": 5,
   "metadata": {
    "collapsed": true
   },
   "outputs": [],
   "source": [
    "### pre-process on X and y\n",
    "dataWash = []\n",
    "labelsNew = []\n",
    "for i in range(len(data)):\n",
    "    add = 1\n",
    "    timeDif = float(data[i][6])\n",
    "    data[i][6]=timeDif/3600/24\n",
    "    \n",
    "    for j in range(len(data[i])):\n",
    "        data[i][j] = float(data[i][j])\n",
    "    dataWash.append(data[i])\n",
    "    labelsNew.append(labels[i])\n",
    "data = dataWash\n",
    "labels = labelsNew"
   ]
  },
  {
   "cell_type": "code",
   "execution_count": 6,
   "metadata": {
    "collapsed": false
   },
   "outputs": [],
   "source": [
    "### split train, validation, test data\n",
    "trainX = []\n",
    "trainy = []\n",
    "validateX = []\n",
    "validatey = []\n",
    "testX = []\n",
    "testy = []\n",
    "for i in range (len(data)):\n",
    "    rdm = np.random.random()\n",
    "    if rdm<0.6:\n",
    "        trainX.append(data[i])\n",
    "        trainy.append(labels[i])\n",
    "    elif rdm<0.8:\n",
    "        validateX.append(data[i])\n",
    "        validatey.append(labels[i])\n",
    "    else:\n",
    "        testX.append(data[i])\n",
    "        testy.append(labels[i])"
   ]
  },
  {
   "cell_type": "code",
   "execution_count": 7,
   "metadata": {
    "collapsed": true
   },
   "outputs": [],
   "source": [
    "###  calculate accuracy\n",
    "def getAcc(predicty, testy):\n",
    "    correctCnt = 0\n",
    "    for i in range(len(testy)):\n",
    "        if predicty[i] == testy[i]:\n",
    "            correctCnt += 1\n",
    "    return correctCnt*1.0/len(testy)\n",
    "\n",
    "def getAccByLeague(predicty, testy, testX):\n",
    "    matchNumByLeague = [0]*11\n",
    "    correctByLeague = [0]*11\n",
    "    testMatchNum = len(predicty)\n",
    "    for i in range(testMatchNum):\n",
    "        label = testy[i]\n",
    "        pred = predicty[i]\n",
    "        for j in range(7,18,1):\n",
    "            if int(testX[i][j])==1:\n",
    "                matchNumByLeague[j-7]+=1\n",
    "                if label==pred:\n",
    "                    correctByLeague[j-7] += 1\n",
    "    accuracyByLeague = []\n",
    "    for i in range(11):\n",
    "        if matchNumByLeague[i]==0:\n",
    "            accuracyByLeague.append(0)\n",
    "        else:\n",
    "            accuracyByLeague.append(correctByLeague[i]*1.0/matchNumByLeague[i])\n",
    "    return accuracyByLeague"
   ]
  },
  {
   "cell_type": "code",
   "execution_count": 8,
   "metadata": {
    "collapsed": false
   },
   "outputs": [
    {
     "name": "stdout",
     "output_type": "stream",
     "text": [
      "accuracy of baseline is 0.45133041428090265\n"
     ]
    }
   ],
   "source": [
    "###  baseline: predict every match as home team wins\n",
    "predicty = ['Win']*len(testy)\n",
    "acc = getAcc(predicty,testy)\n",
    "print (\"accuracy of baseline is \"+str(acc))"
   ]
  },
  {
   "cell_type": "code",
   "execution_count": 9,
   "metadata": {
    "collapsed": false
   },
   "outputs": [
    {
     "name": "stdout",
     "output_type": "stream",
     "text": [
      "accuracy of LR is 0.499494779386999\n",
      "[0.4691689008042895, 0.49270664505672607, 0.4846938775510204, 0.46543778801843316, 0.4752941176470588, 0.4956772334293948, 0.4949748743718593, 0.5379939209726444, 0.5804878048780487, 0.5023041474654378, 0.5023923444976076]\n"
     ]
    }
   ],
   "source": [
    "###   try logistic regression\n",
    "logClf = linear_model.LogisticRegression(multi_class = \"ovr\", solver = \"sag\", class_weight = 'balanced')\n",
    "logClf.fit(trainX,trainy)\n",
    "predicty = logClf.predict(testX)\n",
    "acc = getAcc(predicty,testy)\n",
    "print (\"accuracy of LR is \"+str(acc))\n",
    "\n",
    "accByLeague = getAccByLeague(predicty,testy,testX)\n",
    "print(accByLeague)"
   ]
  },
  {
   "cell_type": "code",
   "execution_count": 10,
   "metadata": {
    "collapsed": false
   },
   "outputs": [
    {
     "name": "stdout",
     "output_type": "stream",
     "text": [
      "accuracy of LR is 0.4883799259009768\n",
      "[0.4579088471849866, 0.48244192328471097, 0.41836734693877553, 0.4769585253456221, 0.4423529411764706, 0.4438040345821326, 0.4824120603015075, 0.5775075987841946, 0.5560975609756098, 0.511520737327189, 0.507177033492823]\n"
     ]
    }
   ],
   "source": [
    "###  only use lottery features\n",
    "trainXNew = []\n",
    "testXNew = []\n",
    "for row in trainX:\n",
    "    trainXNew.append(row[-6:])\n",
    "for row in testX:\n",
    "    testXNew.append(row[-6:])\n",
    "logClf = linear_model.LogisticRegression(multi_class = \"ovr\", solver = \"sag\", class_weight = 'balanced')\n",
    "logClf.fit(trainXNew,trainy)\n",
    "predicty = logClf.predict(testXNew)\n",
    "acc = getAcc(predicty,testy)\n",
    "print (\"accuracy of LR is \"+str(acc))\n",
    "accByLeague = getAccByLeague(predicty,testy,testX)\n",
    "print(accByLeague)"
   ]
  },
  {
   "cell_type": "code",
   "execution_count": 11,
   "metadata": {
    "collapsed": false
   },
   "outputs": [
    {
     "name": "stdout",
     "output_type": "stream",
     "text": [
      "accuracy of GNB is 0.4904008083529808\n",
      "[0.4616621983914209, 0.48352242031334414, 0.45408163265306123, 0.5, 0.4329411764705882, 0.44668587896253603, 0.4723618090452261, 0.5683890577507599, 0.5170731707317073, 0.5069124423963134, 0.5263157894736842]\n"
     ]
    }
   ],
   "source": [
    "###  try gaussian naive bayes\n",
    "GNBClf = GaussianNB()\n",
    "GNBClf.fit(trainX,trainy)\n",
    "predicty = GNBClf.predict(testX)\n",
    "acc = getAcc(predicty,testy)\n",
    "print (\"accuracy of GNB is \"+str(acc))\n",
    "\n",
    "accByLeague = getAccByLeague(predicty,testy,testX)\n",
    "print(accByLeague)"
   ]
  },
  {
   "cell_type": "code",
   "execution_count": 12,
   "metadata": {
    "collapsed": false
   },
   "outputs": [
    {
     "name": "stdout",
     "output_type": "stream",
     "text": [
      "accuracy of RF is 0.5308184573930617\n",
      "[0.5067024128686327, 0.5218800648298217, 0.5102040816326531, 0.5299539170506913, 0.508235294117647, 0.5129682997118156, 0.5175879396984925, 0.5866261398176292, 0.5317073170731708, 0.5161290322580645, 0.5550239234449761]\n"
     ]
    }
   ],
   "source": [
    "###  try random forest\n",
    "RFClf = RandomForestClassifier(n_estimators = 200, random_state = 1, class_weight = 'balanced')\n",
    "RFClf.fit(trainX,trainy)\n",
    "predicty = RFClf.predict(testX)\n",
    "acc = getAcc(predicty,testy)\n",
    "print (\"accuracy of RF is \"+str(acc))\n",
    "\n",
    "accByLeague = getAccByLeague(predicty,testy,testX)\n",
    "print(accByLeague)"
   ]
  },
  {
   "cell_type": "code",
   "execution_count": 13,
   "metadata": {
    "collapsed": false
   },
   "outputs": [
    {
     "name": "stdout",
     "output_type": "stream",
     "text": [
      "accuracy of AB is 0.5058942404850117\n",
      "[0.47506702412868634, 0.4959481361426256, 0.46938775510204084, 0.5069124423963134, 0.4752941176470588, 0.48703170028818443, 0.5, 0.5714285714285714, 0.526829268292683, 0.4838709677419355, 0.5239234449760766]\n"
     ]
    }
   ],
   "source": [
    "###  try adaboost\n",
    "ABClf = AdaBoostClassifier(n_estimators = 200, random_state = 2)\n",
    "ABClf.fit(trainX,trainy)\n",
    "predicty = ABClf.predict(testX)\n",
    "acc = getAcc(predicty,testy)\n",
    "print (\"accuracy of AB is \"+str(acc))\n",
    "\n",
    "accByLeague = getAccByLeague(predicty,testy,testX)\n",
    "print(accByLeague)"
   ]
  },
  {
   "cell_type": "code",
   "execution_count": 14,
   "metadata": {
    "collapsed": false
   },
   "outputs": [
    {
     "name": "stdout",
     "output_type": "stream",
     "text": [
      "accuracy of KNN is 0.4264061973728528\n",
      "[0.39302949061662196, 0.41707185305240413, 0.41836734693877553, 0.41244239631336405, 0.36705882352941177, 0.3976945244956772, 0.4020100502512563, 0.48024316109422494, 0.5073170731707317, 0.4792626728110599, 0.44258373205741625]\n"
     ]
    }
   ],
   "source": [
    "###  try KNN\n",
    "KNNClf =  KNeighborsClassifier()\n",
    "KNNClf.fit(trainX,trainy)\n",
    "predicty = KNNClf.predict(testX)\n",
    "acc = getAcc(predicty,testy)\n",
    "print (\"accuracy of KNN is \"+str(acc))\n",
    "\n",
    "accByLeague = getAccByLeague(predicty,testy,testX)\n",
    "print(accByLeague)\n"
   ]
  },
  {
   "cell_type": "code",
   "execution_count": 20,
   "metadata": {
    "collapsed": false
   },
   "outputs": [],
   "source": [
    "### Aggregate\n",
    "\n",
    "clfLst = [logClf,GNBClf,RFClf,ABClf,KNNClf]\n",
    "clfName = [\"Logistic Regression\", \"Gaussian Naive Bayes\", \"Random Forest\",\"AdaBoost\",\"KNN\"]\n",
    "accByClf = []\n",
    "for clf in clfLst:\n",
    "    clf.fit(trainX,trainy)\n",
    "    predicty = clf.predict(testX)\n",
    "    acc = getAcc(predicty,testy)\n",
    "    accByClf.append(acc)\n"
   ]
  },
  {
   "cell_type": "code",
   "execution_count": 30,
   "metadata": {
    "collapsed": false
   },
   "outputs": [
    {
     "data": {
      "image/png": "[encoded data removed]",
      "text/plain": [
       "<matplotlib.figure.Figure at 0x11301cb00>"
      ]
     },
     "metadata": {},
     "output_type": "display_data"
    }
   ],
   "source": [
    "idx = np.arange(len(clfName))\n",
    "#width = 0\n",
    "plt.plot(idx,accByClf,'o-')\n",
    "plt.xticks(idx, clfName, rotation=40)\n",
    "plt.show()"
   ]
  },
  {
   "cell_type": "code",
   "execution_count": null,
   "metadata": {
    "collapsed": true
   },
   "outputs": [],
   "source": []
  }
 ],
 "metadata": {
  "anaconda-cloud": {},
  "kernelspec": {
   "display_name": "Python [conda root]",
   "language": "python",
   "name": "conda-root-py"
  },
  "language_info": {
   "codemirror_mode": {
    "name": "ipython",
    "version": 3
   },
   "file_extension": ".py",
   "mimetype": "text/x-python",
   "name": "python",
   "nbconvert_exporter": "python",
   "pygments_lexer": "ipython3",
   "version": "3.5.2"
  }
 },
 "nbformat": 4,
 "nbformat_minor": 1
}
