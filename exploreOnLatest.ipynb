{
 "cells": [
  {
   "cell_type": "code",
   "execution_count": 1,
   "metadata": {
    "collapsed": true
   },
   "outputs": [],
   "source": [
    "import numpy as np  \n",
    "import scipy as sp  \n",
    "from numpy.random import random\n",
    "import urllib.request\n",
    "import scipy.optimize\n",
    "import csv\n",
    "import copy\n",
    "import random\n",
    "from sklearn import svm\n",
    "from collections import defaultdict\n",
    "import gzip\n",
    "import matplotlib  \n",
    "import matplotlib.pyplot as plt  "
   ]
  },
  {
   "cell_type": "code",
   "execution_count": 15,
   "metadata": {
    "collapsed": false
   },
   "outputs": [
    {
     "name": "stdout",
     "output_type": "stream",
     "text": [
      "Reading data...\n",
      "done\n"
     ]
    }
   ],
   "source": [
    "###  Read from csv\n",
    "print (\"Reading data...\")\n",
    "\n",
    "data = []\n",
    "labels = []\n",
    "featureName = []\n",
    "#file = open(\"washed_data.csv\")\n",
    "file = open(\"washed_data2.csv\")\n",
    "for l in csv.reader(file):\n",
    "    data.append(l[1:-1])\n",
    "    labels.append(l[-1])\n",
    "featureName = data[0]\n",
    "del data[0]\n",
    "del labels[0]\n",
    "\n",
    "\n",
    "print (\"done\")"
   ]
  },
  {
   "cell_type": "code",
   "execution_count": 16,
   "metadata": {
    "collapsed": true
   },
   "outputs": [],
   "source": [
    "### explore dataset"
   ]
  },
  {
   "cell_type": "code",
   "execution_count": 17,
   "metadata": {
    "collapsed": false
   },
   "outputs": [
    {
     "name": "stdout",
     "output_type": "stream",
     "text": [
      "Number of matches: 14764\n",
      "home team wins: 0.45793822812246004\n",
      "away team wins: 0.291587645624492\n",
      "two teams draw: 0.25047412625304794\n"
     ]
    }
   ],
   "source": [
    "### number of matches, percentage of hometeam wins/loses/draws\n",
    "matchNum = len(labels)\n",
    "homeWinNum = len([l for l in labels if l=='Win'])\n",
    "homeDrawNum = len([l for l in labels if l=='Draw'])\n",
    "homeDefeatNum = len([l for l in labels if l=='Defeat'])\n",
    "print (\"Number of matches: \"+str(matchNum))\n",
    "print (\"home team wins: \"+str(homeWinNum*1.0/matchNum))\n",
    "print (\"away team wins: \"+str(homeDefeatNum*1.0/matchNum))\n",
    "print (\"two teams draw: \"+str(homeDrawNum*1.0/matchNum))"
   ]
  },
  {
   "cell_type": "code",
   "execution_count": 21,
   "metadata": {
    "collapsed": false
   },
   "outputs": [
    {
     "data": {
      "image/png": "[encoded data removed]",
      "text/plain": [
       "<matplotlib.figure.Figure at 0x1107527b8>"
      ]
     },
     "metadata": {},
     "output_type": "display_data"
    }
   ],
   "source": [
    "### for each league\n",
    "\n",
    "league_info = [[0,0,0,0] for i in range(11)]   # matches, hometeam wins/draws/loses\n",
    "\n",
    "for i in range(matchNum):\n",
    "    label = labels[i]\n",
    "    for j in range(9,20,1):\n",
    "        if int(data[i][j])==1:\n",
    "            league_info[j-9][0]+=1\n",
    "            if label=='Win':\n",
    "                league_info[j-9][1] += 1\n",
    "            if label=='Draw':\n",
    "                league_info[j-9][2] += 1\n",
    "            if label=='Defeat':\n",
    "                league_info[j-9][3] += 1\n",
    "\n",
    "league = ['Belgium Jupiler League','England Premier League','France Ligue 1','Germany 1. Bundesliga'\n",
    "         ,'Italy Serie A','Netherlands Eredivisie','Poland Ekstraklasa','Portugal Liga ZON Sagres',\n",
    "         'Scotland Premier League','Spain LIGA BBVA','Switzerland Super League']\n",
    "winByLeague = []\n",
    "drawByLeague = []\n",
    "defeatByLeague = []\n",
    "\n",
    "for row in league_info:\n",
    "    if row[0]==0:\n",
    "        winByLeague.append(0)\n",
    "        drawByLeague.append(0)\n",
    "        defeatByLeague.append(0)\n",
    "    else:\n",
    "        winByLeague.append(row[1]*1.0/row[0])\n",
    "        drawByLeague.append(row[2]*1.0/row[0])\n",
    "        defeatByLeague.append(row[3]*1.0/row[0])\n",
    "    \n",
    "### plot\n",
    "bar_width = 0.35\n",
    "index = np.arange(11)\n",
    "plt.bar(index,winByLeague)\n",
    "plt.bar(index,drawByLeague,bottom=winByLeague)\n",
    "plt.bar(index,defeatByLeague,bottom=[winByLeague[i]+drawByLeague[i] for i in range(11)])\n",
    "plt.xticks(index, index)  \n",
    "plt.show()"
   ]
  },
  {
   "cell_type": "code",
   "execution_count": 22,
   "metadata": {
    "collapsed": false
   },
   "outputs": [
    {
     "data": {
      "image/png": "[encoded data removed]",
      "text/plain": [
       "<matplotlib.figure.Figure at 0x1048d2978>"
      ]
     },
     "metadata": {},
     "output_type": "display_data"
    }
   ],
   "source": [
    "### influence of rest time on match\n",
    "match = [0]*8\n",
    "homeWin = [0]*8\n",
    "homeDraw = [0]*8\n",
    "homeDefeat = [0]*8\n",
    "for i in range(matchNum):\n",
    "    m = data[i]\n",
    "    label = labels[i]\n",
    "    timeDiff = float(m[6])/3600/24\n",
    "    idx = 0\n",
    "    if timeDiff < -5:\n",
    "        idx = 0\n",
    "    elif timeDiff <-3:\n",
    "        idx = 1\n",
    "    elif timeDiff <-1:\n",
    "        idx = 2\n",
    "    elif timeDiff <0:\n",
    "        idx = 3\n",
    "    elif timeDiff <1:\n",
    "        idx = 4\n",
    "    elif timeDiff <3:\n",
    "        idx = 5\n",
    "    elif timeDiff <5:\n",
    "        idx = 6\n",
    "    else: idx = 7\n",
    "    match[idx] += 1\n",
    "    if label=='Win':\n",
    "        homeWin[idx]+=1\n",
    "    elif label=='Draw':\n",
    "        homeDraw[idx]+=1\n",
    "    else: homeDefeat[idx]+=1\n",
    "\n",
    "homeWinPct = []\n",
    "homeDrawPct = []\n",
    "homeDefeatPct = []\n",
    "\n",
    "for i in range(8):\n",
    "    homeWinPct.append(homeWin[i]*1.0/match[i])\n",
    "    homeDrawPct.append(homeDraw[i]*1.0/match[i])\n",
    "    homeDefeatPct.append(homeDefeat[i]*1.0/match[i])\n",
    "\n",
    "### plot\n",
    "bar_width = 0.35\n",
    "index = np.arange(8)\n",
    "plt.bar(index,homeWinPct)\n",
    "plt.bar(index,homeDrawPct,bottom=homeWinPct)\n",
    "plt.bar(index,homeDefeatPct,bottom=[homeWinPct[i]+homeDrawPct[i] for i in range(8)])\n",
    "plt.xticks(index, index)  \n",
    "plt.show()"
   ]
  },
  {
   "cell_type": "code",
   "execution_count": 23,
   "metadata": {
    "collapsed": false
   },
   "outputs": [
    {
     "data": {
      "image/png": "[encoded data removed]",
      "text/plain": [
       "<matplotlib.figure.Figure at 0x1109bfdd8>"
      ]
     },
     "metadata": {},
     "output_type": "display_data"
    }
   ],
   "source": [
    "### explore lottery\n",
    "B365Win_win = []\n",
    "B365Draw_win = []\n",
    "B365Defeat_win = []\n",
    "B365Win_draw = []\n",
    "B365Draw_draw = []\n",
    "B365Defeat_draw = []\n",
    "B365Win_defeat = []\n",
    "B365Draw_defeat = []\n",
    "B365Defeat_defeat = []\n",
    "\n",
    "for i in range(matchNum):\n",
    "    match = data[i]\n",
    "    label = labels[i]\n",
    "    B365Win = float(match[-6])\n",
    "    B365Draw = float(match[-5])\n",
    "    B365Defeat = float(match[-4])\n",
    "    if label=='Win':\n",
    "        B365Win_win.append(B365Win)\n",
    "        B365Draw_win.append(B365Draw)\n",
    "        B365Defeat_win.append(B365Defeat)\n",
    "    elif label=='Draw':\n",
    "        B365Win_draw.append(B365Win)\n",
    "        B365Draw_draw.append(B365Draw)\n",
    "        B365Defeat_draw.append(B365Defeat)\n",
    "    else:\n",
    "        B365Win_defeat.append(B365Win)\n",
    "        B365Draw_defeat.append(B365Draw)\n",
    "        B365Defeat_defeat.append(B365Defeat)\n",
    "\n",
    "hist, bins = np.histogram(B365Win_win, bins=50)\n",
    "hist = [i*1.0/len(B365Win_win) for i in hist]\n",
    "width = 0.7 * (bins[1] - bins[0])\n",
    "center = (bins[:-1] + bins[1:]) / 2\n",
    "plt.bar(center, hist, align='center', width=width)\n",
    "\n",
    "\n",
    "hist, bins = np.histogram(B365Win_draw, bins=50)\n",
    "hist = [i*1.0/len(B365Win_draw) for i in hist]\n",
    "width = 0.7 * (bins[1] - bins[0])\n",
    "center = (bins[:-1] + bins[1:]) / 2\n",
    "plt.bar(center, hist, align='center', width=width)\n",
    "\n",
    "hist, bins = np.histogram(B365Win_defeat, bins=50)\n",
    "hist = [i*1.0/len(B365Win_defeat) for i in hist]\n",
    "width = 0.7 * (bins[1] - bins[0])\n",
    "center = (bins[:-1] + bins[1:]) / 2\n",
    "plt.bar(center, hist, align='center', width=width)\n",
    "\n",
    "plt.show()"
   ]
  },
  {
   "cell_type": "code",
   "execution_count": 19,
   "metadata": {
    "collapsed": false
   },
   "outputs": [
    {
     "data": {
      "text/plain": [
       "['home_team_goals_difference',\n",
       " 'away_team_goals_difference',\n",
       " 'games_won_home_team',\n",
       " 'games_won_away_team',\n",
       " 'games_against_won',\n",
       " 'games_against_lost',\n",
       " 'match_time_difference',\n",
       " 'last_matches_points_home',\n",
       " 'last_matches_points_away',\n",
       " 'League_1.0',\n",
       " 'League_1729.0',\n",
       " 'League_4769.0',\n",
       " 'League_7809.0',\n",
       " 'League_10257.0',\n",
       " 'League_13274.0',\n",
       " 'League_15722.0',\n",
       " 'League_17642.0',\n",
       " 'League_19694.0',\n",
       " 'League_21518.0',\n",
       " 'League_24558.0',\n",
       " 'home_player_1_overall_rating',\n",
       " 'home_player_2_overall_rating',\n",
       " 'home_player_3_overall_rating',\n",
       " 'home_player_4_overall_rating',\n",
       " 'home_player_5_overall_rating',\n",
       " 'home_player_6_overall_rating',\n",
       " 'home_player_7_overall_rating',\n",
       " 'home_player_8_overall_rating',\n",
       " 'home_player_9_overall_rating',\n",
       " 'home_player_10_overall_rating',\n",
       " 'home_player_11_overall_rating',\n",
       " 'away_player_1_overall_rating',\n",
       " 'away_player_2_overall_rating',\n",
       " 'away_player_3_overall_rating',\n",
       " 'away_player_4_overall_rating',\n",
       " 'away_player_5_overall_rating',\n",
       " 'away_player_6_overall_rating',\n",
       " 'away_player_7_overall_rating',\n",
       " 'away_player_8_overall_rating',\n",
       " 'away_player_9_overall_rating',\n",
       " 'away_player_10_overall_rating',\n",
       " 'away_player_11_overall_rating',\n",
       " 'home_team_api_id_buildUpPlaySpeed',\n",
       " 'home_team_api_id_buildUpPlayPassing',\n",
       " 'home_team_api_id_chanceCreationPassing',\n",
       " 'home_team_api_id_chanceCreationCrossing',\n",
       " 'home_team_api_id_chanceCreationShooting',\n",
       " 'home_team_api_id_defencePressure',\n",
       " 'home_team_api_id_defenceAggression',\n",
       " 'home_team_api_id_defenceTeamWidth',\n",
       " 'B365_Win',\n",
       " 'B365_Draw',\n",
       " 'B365_Defeat',\n",
       " 'BW_Win',\n",
       " 'BW_Draw',\n",
       " 'BW_Defeat']"
      ]
     },
     "execution_count": 19,
     "metadata": {},
     "output_type": "execute_result"
    }
   ],
   "source": [
    "featureName"
   ]
  },
  {
   "cell_type": "code",
   "execution_count": 12,
   "metadata": {
    "collapsed": false
   },
   "outputs": [
    {
     "data": {
      "text/plain": [
       "'label'"
      ]
     },
     "execution_count": 12,
     "metadata": {},
     "output_type": "execute_result"
    }
   ],
   "source": [
    "labels[0]"
   ]
  },
  {
   "cell_type": "code",
   "execution_count": null,
   "metadata": {
    "collapsed": true
   },
   "outputs": [],
   "source": []
  }
 ],
 "metadata": {
  "kernelspec": {
   "display_name": "Python [conda root]",
   "language": "python",
   "name": "conda-root-py"
  },
  "language_info": {
   "codemirror_mode": {
    "name": "ipython",
    "version": 3
   },
   "file_extension": ".py",
   "mimetype": "text/x-python",
   "name": "python",
   "nbconvert_exporter": "python",
   "pygments_lexer": "ipython3",
   "version": "3.5.2"
  }
 },
 "nbformat": 4,
 "nbformat_minor": 1
}
